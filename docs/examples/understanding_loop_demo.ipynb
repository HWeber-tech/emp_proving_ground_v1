{
  "cells": [
    {
      "cell_type": "markdown",
      "metadata": {},
      "source": [
        "# Understanding Loop Phase I Demo\n",
        "\n",
        "This notebook demonstrates a single pass of the AlphaTrade understanding loop using the Phase I components. It ingests recorded EURUSD market data, fuses the sensory dimensions, produces a belief state and regime signal, applies fast-weight gating around the policy router, and records the resulting decision in the governance diary.\n"
      ]
    },
    {
      "cell_type": "markdown",
      "metadata": {},
      "source": [
        "## Setup\n",
        "The demo loads a small slice of real EURUSD hourly candles captured on 2024-03-04 and 2024-03-05 (see `docs/examples/data/eurusd_hourly_20240304_20240306.csv`). All steps run locally\u2014no external services are required.\n\nRun the cells sequentially from top to bottom.\n"
      ]
    },
    {
      "cell_type": "code",
      "metadata": {},
      "execution_count": null,
      "source": [
        "from __future__ import annotations\n",
        "\n",
        "import asyncio\n",
        "from datetime import datetime, timezone\n",
        "from pathlib import Path\n",
        "from pprint import pprint\n",
        "\n",
        "import pandas as pd\n",
        "\n",
        "from src.core.event_bus import EventBus\n",
        "from src.sensory.real_sensory_organ import RealSensoryOrgan\n",
        "from src.understanding.belief import BeliefBuffer, BeliefEmitter, RegimeFSM\n",
        "from src.understanding.router import (\n",
        "    BeliefSnapshot,\n",
        "    FastWeightAdapter,\n",
        "    FeatureGate,\n",
        "    HebbianConfig,\n",
        "    UnderstandingRouter,\n",
        ")\n",
        "from src.thinking.adaptation.policy_router import PolicyRouter, PolicyTactic\n",
        "from src.understanding.decision_diary import DecisionDiaryStore\n"
      ],
      "outputs": []
    },
    {
      "cell_type": "code",
      "metadata": {},
      "execution_count": null,
      "source": [
        "data_path = Path('docs/examples/data/eurusd_hourly_20240304_20240306.csv')\n",
        "df = pd.read_csv(data_path)\n",
        "df['timestamp'] = pd.to_datetime(df['timestamp'], utc=True)\n",
        "df['symbol'] = 'EURUSD'\n",
        "df.tail()\n"
      ],
      "outputs": []
    },
    {
      "cell_type": "markdown",
      "metadata": {},
      "source": [
        "## Run one understanding loop iteration\n",
        "The helper coroutine below wires the sensory organs, belief buffer, regime classifier, and understanding router together. It also records the resulting decision in the decision diary under `docs/examples/output/decision_diary_demo.json`.\n"
      ]
    },
    {
      "cell_type": "code",
      "metadata": {},
      "execution_count": null,
      "source": [
        "async def run_understanding_iteration(frame: pd.DataFrame):\n",
        "    bus = EventBus()\n",
        "    await bus.start()\n",
        "    try:\n",
        "        organ = RealSensoryOrgan(event_bus=bus)\n",
        "        snapshot = organ.observe(frame, symbol='EURUSD')\n",
        "\n",
        "        buffer = BeliefBuffer(belief_id='demo-belief')\n",
        "        emitter = BeliefEmitter(buffer=buffer, event_bus=bus)\n",
        "        belief_state = emitter.emit(snapshot)\n",
        "\n",
        "        regime_fsm = RegimeFSM(event_bus=bus, signal_id='demo-regime')\n",
        "        regime_signal = regime_fsm.classify(belief_state)\n",
        "        features = dict(regime_signal.features)\n",
        "\n",
        "        policy_router = PolicyRouter()\n",
        "        policy_router.register_tactic(\n",
        "            PolicyTactic(\n",
        "                tactic_id='mean_revert',\n",
        "                base_weight=0.9,\n",
        "                parameters={'symbol': 'EURUSD', 'side': 'buy', 'size': 100000},\n",
        "                regime_bias={'bearish': 1.2, 'bullish': 0.7},\n",
        "                description='Fade moves in balanced regimes',\n",
        "            )\n",
        "        )\n",
        "        policy_router.register_tactic(\n",
        "            PolicyTactic(\n",
        "                tactic_id='trend_follow',\n",
        "                base_weight=0.7,\n",
        "                parameters={'symbol': 'EURUSD', 'side': 'sell', 'size': 100000},\n",
        "                regime_bias={'bullish': 1.4},\n",
        "                description='Ride breakouts when confidence climbs',\n",
        "            )\n",
        "        )\n",
        "\n",
        "        understanding_router = UnderstandingRouter(policy_router)\n",
        "        understanding_router.register_adapter(\n",
        "            FastWeightAdapter(\n",
        "                adapter_id='boost-trend-how',\n",
        "                tactic_id='trend_follow',\n",
        "                rationale='Boost breakout tactic when HOW liquidity signal is high',\n",
        "                feature_gates=(FeatureGate(feature='HOW_signal', minimum=0.03),),\n",
        "                hebbian=HebbianConfig(\n",
        "                    feature='HOW_signal',\n",
        "                    learning_rate=10.0,\n",
        "                    decay=0.05,\n",
        "                    floor=1.0,\n",
        "                    baseline=1.0,\n",
        "                    ceiling=3.0,\n",
        "                ),\n",
        "            )\n",
        "        )\n",
        "\n",
        "        belief_snapshot = BeliefSnapshot(\n",
        "            belief_id=belief_state.belief_id,\n",
        "            regime_state=regime_signal.regime_state,\n",
        "            features=features,\n",
        "            metadata={'symbol': belief_state.symbol},\n",
        "        )\n",
        "        decision_bundle = understanding_router.route(belief_snapshot)\n",
        "\n",
        "        output_dir = Path('docs/examples/output')\n",
        "        output_dir.mkdir(parents=True, exist_ok=True)\n",
        "        diary_path = output_dir / 'decision_diary_demo.json'\n",
        "        if diary_path.exists():\n",
        "            diary_path.unlink()\n",
        "        diary_store = DecisionDiaryStore(diary_path, publish_on_record=False)\n",
        "        diary_entry = diary_store.record(\n",
        "            policy_id=decision_bundle.decision.tactic_id,\n",
        "            decision=decision_bundle.decision,\n",
        "            regime_state=belief_snapshot.regime_state,\n",
        "            belief_state=belief_state,\n",
        "            outcomes={'pnl': 0.0, 'confidence': decision_bundle.decision.selected_weight},\n",
        "            metadata={'demo_run': True},\n",
        "            notes=('Notebook demo iteration',),\n",
        "        )\n",
        "        return {\n",
        "            'belief_state': belief_state,\n",
        "            'regime_signal': regime_signal,\n",
        "            'decision_bundle': decision_bundle,\n",
        "            'diary_entry': diary_entry,\n",
        "            'diary_path': diary_path,\n",
        "        }\n",
        "    finally:\n",
        "        await bus.stop()\n"
      ],
      "outputs": []
    },
    {
      "cell_type": "code",
      "metadata": {},
      "execution_count": null,
      "source": [
        "results = asyncio.run(run_understanding_iteration(df))\n",
        "decision = results['decision_bundle'].decision\n",
        "print('Selected tactic:', decision.tactic_id)\n",
        "print('Decision weight:', decision.selected_weight)\n",
        "print('Applied adapters:', results['decision_bundle'].applied_adapters)\n",
        "print('Fast weight summary:')\n",
        "pprint(results['decision_bundle'].fast_weight_summary)\n",
        "print('\nDiary written to:', results['diary_path'])\n"
      ],
      "outputs": []
    },
    {
      "cell_type": "code",
      "metadata": {},
      "execution_count": null,
      "source": [
        "print(results['diary_entry'].to_markdown())\n"
      ],
      "outputs": []
    }
  ],
  "metadata": {
    "kernelspec": {
      "display_name": "Python 3",
      "language": "python",
      "name": "python3"
    },
    "language_info": {
      "name": "python",
      "version": "3.11"
    }
  },
  "nbformat": 4,
  "nbformat_minor": 5
}